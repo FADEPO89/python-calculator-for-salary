{
 "cells": [
  {
   "cell_type": "code",
   "execution_count": null,
   "id": "90856246",
   "metadata": {},
   "outputs": [],
   "source": [
    "# constant values\n",
    "year = 365 \n",
    "weeks = 52\n",
    "\n",
    "# values to insert\n",
    "name = input('What is your Full name ? : ')\n",
    "hours_per_day = int(input('how many hours you work per day ? : '))\n",
    "Working_Days = int(input('how many days you work per week ? : '))\n",
    "Annual_Salary = float(input('What is your Annual Salary ? : '))\n",
    "\n",
    "# So according to this, we have:\n",
    "weekly_working_hours = hours_per_day * Working_Days\n",
    "Total_working_hours_in_a_year = weeks * weekly_working_hours\n",
    "\n",
    "\n",
    "# Hourly Salary\n",
    "Hourly_salary = Annual_Salary / Total_working_hours_in_a_year\n",
    "\n",
    "# Daily Salary:\n",
    "Daily_salary = Hourly_salary * 8\n",
    "\n",
    "# Weekly Salary:\n",
    "Weekly_salary = Annual_Salary / 52\n",
    "\n",
    "'''# to determine weekly pay by using number of hours you work in a week\n",
    "Weekly_salary = Working_Days * hours_per_day'''\n",
    "\n",
    "# Monthly Salary:\n",
    "Monthly_Salary = Annual_Salary / 12\n",
    "\n",
    "\n",
    "# Annually Salary:\n",
    "\n",
    "# to calculate annual income from monthly salary:\n",
    "Annual_Salary = Monthly_Salary * 12\n",
    "\n",
    "print(\"\\n================ employee information =======================\\n\")\n",
    "print('Name: ' + name)\n",
    "print('Working hours per day: ' + str(hours_per_day))\n",
    "print('Working days per week: ' + str(Working_Days))\n",
    "print(\"\\n================ salary information ===========================\\n\")\n",
    "print('Hourly Salary: R${:,.2f}'.format(Hourly_salary))\n",
    "print('Daily Salary: R${:,.2f}'.format(Daily_salary ))\n",
    "print('Weekly Salary: R${:,.2f}'.format(Weekly_salary))\n",
    "print('Monthly Salary: R${:,.2f}'.format(Monthly_Salary))\n",
    "print('Total gross pay: R${:,.2f}'.format(Annual_Salary))\n",
    "print(\"\\n=====================================================================\")"
   ]
  },
  {
   "cell_type": "code",
   "execution_count": null,
   "id": "5532e03d",
   "metadata": {},
   "outputs": [],
   "source": []
  }
 ],
 "metadata": {
  "kernelspec": {
   "display_name": "Python 3 (ipykernel)",
   "language": "python",
   "name": "python3"
  },
  "language_info": {
   "codemirror_mode": {
    "name": "ipython",
    "version": 3
   },
   "file_extension": ".py",
   "mimetype": "text/x-python",
   "name": "python",
   "nbconvert_exporter": "python",
   "pygments_lexer": "ipython3",
   "version": "3.10.9"
  }
 },
 "nbformat": 4,
 "nbformat_minor": 5
}
